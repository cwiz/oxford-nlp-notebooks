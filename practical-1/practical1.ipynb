{
 "cells": [
  {
   "cell_type": "markdown",
   "metadata": {},
   "source": [
    "## Practical 1: word2vec\n",
    "<p>Oxford CS - Deep NLP 2017<br>\n",
    "https://www.cs.ox.ac.uk/teaching/courses/2016-2017/dl/</p>\n",
    "<p>[Yannis Assael, Brendan Shillingford, Chris Dyer]</p>"
   ]
  },
  {
   "cell_type": "markdown",
   "metadata": {},
   "source": [
    "This practical is presented as an IPython Notebook, with the code written for recent versions of **Python 3**. The code in this practical will not work with Python 2 unless you modify it. If you are using your own Python installation, ensure you have a setup identical to that described in the installation shell script (which is intended for use with the department lab machines). We will be unable to support installation on personal machines due to time constraints, so please use the lab machines and the setup script if you are unfamiliar with how to install Anaconda.\n",
    "\n",
    "To execute a notebook cell, press `shift-enter`. The return value of the last command will be displayed, if it is not `None`.\n",
    "\n",
    "Potentially useful library documentation, references, and resources:\n",
    "\n",
    "* IPython notebooks: <https://ipython.org/ipython-doc/3/notebook/notebook.html#introduction>\n",
    "* Numpy numerical array library: <https://docs.scipy.org/doc/>\n",
    "* Gensim's word2vec: <https://radimrehurek.com/gensim/models/word2vec.html>\n",
    "* Bokeh interactive plots: <http://bokeh.pydata.org/en/latest/> (we provide plotting code here, but click the thumbnails for more examples to copy-paste)\n",
    "* scikit-learn ML library (aka `sklearn`): <http://scikit-learn.org/stable/documentation.html>\n",
    "* nltk NLP toolkit: <http://www.nltk.org/>\n",
    "* tutorial for processing xml in python using `lxml`: <http://lxml.de/tutorial.html> (we did this for you below, but in case you need it in the future)"
   ]
  },
  {
   "cell_type": "code",
   "execution_count": 1,
   "metadata": {
    "collapsed": false
   },
   "outputs": [],
   "source": [
    "import numpy as np\n",
    "import os\n",
    "from random import shuffle\n",
    "import re"
   ]
  },
  {
   "cell_type": "code",
   "execution_count": 2,
   "metadata": {
    "collapsed": false
   },
   "outputs": [
    {
     "data": {
      "text/html": [
       "\n",
       "    <div class=\"bk-root\">\n",
       "        <a href=\"https://bokeh.pydata.org\" target=\"_blank\" class=\"bk-logo bk-logo-small bk-logo-notebook\"></a>\n",
       "        <span id=\"9cc3de2e-1068-47c3-bd92-e1767643f24b\">Loading BokehJS ...</span>\n",
       "    </div>"
      ]
     },
     "metadata": {},
     "output_type": "display_data"
    },
    {
     "data": {
      "application/javascript": [
       "\n",
       "(function(root) {\n",
       "  function now() {\n",
       "    return new Date();\n",
       "  }\n",
       "\n",
       "  var force = true;\n",
       "\n",
       "  if (typeof (root._bokeh_onload_callbacks) === \"undefined\" || force === true) {\n",
       "    root._bokeh_onload_callbacks = [];\n",
       "    root._bokeh_is_loading = undefined;\n",
       "  }\n",
       "\n",
       "  var JS_MIME_TYPE = 'application/javascript';\n",
       "  var HTML_MIME_TYPE = 'text/html';\n",
       "  var EXEC_MIME_TYPE = 'application/vnd.bokehjs_exec.v0+json';\n",
       "  var CLASS_NAME = 'output_bokeh rendered_html';\n",
       "\n",
       "  /**\n",
       "   * Render data to the DOM node\n",
       "   */\n",
       "  function render(props, node) {\n",
       "    var script = document.createElement(\"script\");\n",
       "    node.appendChild(script);\n",
       "  }\n",
       "\n",
       "  /**\n",
       "   * Handle when an output is cleared or removed\n",
       "   */\n",
       "  function handleClearOutput(event, handle) {\n",
       "    var cell = handle.cell;\n",
       "\n",
       "    var id = cell.output_area._bokeh_element_id;\n",
       "    var server_id = cell.output_area._bokeh_server_id;\n",
       "    // Clean up Bokeh references\n",
       "    if (id != null && id in Bokeh.index) {\n",
       "      Bokeh.index[id].model.document.clear();\n",
       "      delete Bokeh.index[id];\n",
       "    }\n",
       "\n",
       "    if (server_id !== undefined) {\n",
       "      // Clean up Bokeh references\n",
       "      var cmd = \"from bokeh.io.state import curstate; print(curstate().uuid_to_server['\" + server_id + \"'].get_sessions()[0].document.roots[0]._id)\";\n",
       "      cell.notebook.kernel.execute(cmd, {\n",
       "        iopub: {\n",
       "          output: function(msg) {\n",
       "            var id = msg.content.text.trim();\n",
       "            if (id in Bokeh.index) {\n",
       "              Bokeh.index[id].model.document.clear();\n",
       "              delete Bokeh.index[id];\n",
       "            }\n",
       "          }\n",
       "        }\n",
       "      });\n",
       "      // Destroy server and session\n",
       "      var cmd = \"import bokeh.io.notebook as ion; ion.destroy_server('\" + server_id + \"')\";\n",
       "      cell.notebook.kernel.execute(cmd);\n",
       "    }\n",
       "  }\n",
       "\n",
       "  /**\n",
       "   * Handle when a new output is added\n",
       "   */\n",
       "  function handleAddOutput(event, handle) {\n",
       "    var output_area = handle.output_area;\n",
       "    var output = handle.output;\n",
       "\n",
       "    // limit handleAddOutput to display_data with EXEC_MIME_TYPE content only\n",
       "    if ((output.output_type != \"display_data\") || (!output.data.hasOwnProperty(EXEC_MIME_TYPE))) {\n",
       "      return\n",
       "    }\n",
       "\n",
       "    var toinsert = output_area.element.find(\".\" + CLASS_NAME.split(' ')[0]);\n",
       "\n",
       "    if (output.metadata[EXEC_MIME_TYPE][\"id\"] !== undefined) {\n",
       "      toinsert[toinsert.length - 1].firstChild.textContent = output.data[JS_MIME_TYPE];\n",
       "      // store reference to embed id on output_area\n",
       "      output_area._bokeh_element_id = output.metadata[EXEC_MIME_TYPE][\"id\"];\n",
       "    }\n",
       "    if (output.metadata[EXEC_MIME_TYPE][\"server_id\"] !== undefined) {\n",
       "      var bk_div = document.createElement(\"div\");\n",
       "      bk_div.innerHTML = output.data[HTML_MIME_TYPE];\n",
       "      var script_attrs = bk_div.children[0].attributes;\n",
       "      for (var i = 0; i < script_attrs.length; i++) {\n",
       "        toinsert[toinsert.length - 1].firstChild.setAttribute(script_attrs[i].name, script_attrs[i].value);\n",
       "      }\n",
       "      // store reference to server id on output_area\n",
       "      output_area._bokeh_server_id = output.metadata[EXEC_MIME_TYPE][\"server_id\"];\n",
       "    }\n",
       "  }\n",
       "\n",
       "  function register_renderer(events, OutputArea) {\n",
       "\n",
       "    function append_mime(data, metadata, element) {\n",
       "      // create a DOM node to render to\n",
       "      var toinsert = this.create_output_subarea(\n",
       "        metadata,\n",
       "        CLASS_NAME,\n",
       "        EXEC_MIME_TYPE\n",
       "      );\n",
       "      this.keyboard_manager.register_events(toinsert);\n",
       "      // Render to node\n",
       "      var props = {data: data, metadata: metadata[EXEC_MIME_TYPE]};\n",
       "      render(props, toinsert[toinsert.length - 1]);\n",
       "      element.append(toinsert);\n",
       "      return toinsert\n",
       "    }\n",
       "\n",
       "    /* Handle when an output is cleared or removed */\n",
       "    events.on('clear_output.CodeCell', handleClearOutput);\n",
       "    events.on('delete.Cell', handleClearOutput);\n",
       "\n",
       "    /* Handle when a new output is added */\n",
       "    events.on('output_added.OutputArea', handleAddOutput);\n",
       "\n",
       "    /**\n",
       "     * Register the mime type and append_mime function with output_area\n",
       "     */\n",
       "    OutputArea.prototype.register_mime_type(EXEC_MIME_TYPE, append_mime, {\n",
       "      /* Is output safe? */\n",
       "      safe: true,\n",
       "      /* Index of renderer in `output_area.display_order` */\n",
       "      index: 0\n",
       "    });\n",
       "  }\n",
       "\n",
       "  // register the mime type if in Jupyter Notebook environment and previously unregistered\n",
       "  if (root.Jupyter !== undefined) {\n",
       "    var events = require('base/js/events');\n",
       "    var OutputArea = require('notebook/js/outputarea').OutputArea;\n",
       "\n",
       "    if (OutputArea.prototype.mime_types().indexOf(EXEC_MIME_TYPE) == -1) {\n",
       "      register_renderer(events, OutputArea);\n",
       "    }\n",
       "  }\n",
       "\n",
       "  \n",
       "  if (typeof (root._bokeh_timeout) === \"undefined\" || force === true) {\n",
       "    root._bokeh_timeout = Date.now() + 5000;\n",
       "    root._bokeh_failed_load = false;\n",
       "  }\n",
       "\n",
       "  var NB_LOAD_WARNING = {'data': {'text/html':\n",
       "     \"<div style='background-color: #fdd'>\\n\"+\n",
       "     \"<p>\\n\"+\n",
       "     \"BokehJS does not appear to have successfully loaded. If loading BokehJS from CDN, this \\n\"+\n",
       "     \"may be due to a slow or bad network connection. Possible fixes:\\n\"+\n",
       "     \"</p>\\n\"+\n",
       "     \"<ul>\\n\"+\n",
       "     \"<li>re-rerun `output_notebook()` to attempt to load from CDN again, or</li>\\n\"+\n",
       "     \"<li>use INLINE resources instead, as so:</li>\\n\"+\n",
       "     \"</ul>\\n\"+\n",
       "     \"<code>\\n\"+\n",
       "     \"from bokeh.resources import INLINE\\n\"+\n",
       "     \"output_notebook(resources=INLINE)\\n\"+\n",
       "     \"</code>\\n\"+\n",
       "     \"</div>\"}};\n",
       "\n",
       "  function display_loaded() {\n",
       "    var el = document.getElementById(\"9cc3de2e-1068-47c3-bd92-e1767643f24b\");\n",
       "    if (el != null) {\n",
       "      el.textContent = \"BokehJS is loading...\";\n",
       "    }\n",
       "    if (root.Bokeh !== undefined) {\n",
       "      if (el != null) {\n",
       "        el.textContent = \"BokehJS \" + root.Bokeh.version + \" successfully loaded.\";\n",
       "      }\n",
       "    } else if (Date.now() < root._bokeh_timeout) {\n",
       "      setTimeout(display_loaded, 100)\n",
       "    }\n",
       "  }\n",
       "\n",
       "\n",
       "  function run_callbacks() {\n",
       "    try {\n",
       "      root._bokeh_onload_callbacks.forEach(function(callback) { callback() });\n",
       "    }\n",
       "    finally {\n",
       "      delete root._bokeh_onload_callbacks\n",
       "    }\n",
       "    console.info(\"Bokeh: all callbacks have finished\");\n",
       "  }\n",
       "\n",
       "  function load_libs(js_urls, callback) {\n",
       "    root._bokeh_onload_callbacks.push(callback);\n",
       "    if (root._bokeh_is_loading > 0) {\n",
       "      console.log(\"Bokeh: BokehJS is being loaded, scheduling callback at\", now());\n",
       "      return null;\n",
       "    }\n",
       "    if (js_urls == null || js_urls.length === 0) {\n",
       "      run_callbacks();\n",
       "      return null;\n",
       "    }\n",
       "    console.log(\"Bokeh: BokehJS not loaded, scheduling load and callback at\", now());\n",
       "    root._bokeh_is_loading = js_urls.length;\n",
       "    for (var i = 0; i < js_urls.length; i++) {\n",
       "      var url = js_urls[i];\n",
       "      var s = document.createElement('script');\n",
       "      s.src = url;\n",
       "      s.async = false;\n",
       "      s.onreadystatechange = s.onload = function() {\n",
       "        root._bokeh_is_loading--;\n",
       "        if (root._bokeh_is_loading === 0) {\n",
       "          console.log(\"Bokeh: all BokehJS libraries loaded\");\n",
       "          run_callbacks()\n",
       "        }\n",
       "      };\n",
       "      s.onerror = function() {\n",
       "        console.warn(\"failed to load library \" + url);\n",
       "      };\n",
       "      console.log(\"Bokeh: injecting script tag for BokehJS library: \", url);\n",
       "      document.getElementsByTagName(\"head\")[0].appendChild(s);\n",
       "    }\n",
       "  };var element = document.getElementById(\"9cc3de2e-1068-47c3-bd92-e1767643f24b\");\n",
       "  if (element == null) {\n",
       "    console.log(\"Bokeh: ERROR: autoload.js configured with elementid '9cc3de2e-1068-47c3-bd92-e1767643f24b' but no matching script tag was found. \")\n",
       "    return false;\n",
       "  }\n",
       "\n",
       "  var js_urls = [\"https://cdn.pydata.org/bokeh/release/bokeh-0.13.0.min.js\", \"https://cdn.pydata.org/bokeh/release/bokeh-widgets-0.13.0.min.js\", \"https://cdn.pydata.org/bokeh/release/bokeh-tables-0.13.0.min.js\", \"https://cdn.pydata.org/bokeh/release/bokeh-gl-0.13.0.min.js\"];\n",
       "\n",
       "  var inline_js = [\n",
       "    function(Bokeh) {\n",
       "      Bokeh.set_log_level(\"info\");\n",
       "    },\n",
       "    \n",
       "    function(Bokeh) {\n",
       "      \n",
       "    },\n",
       "    function(Bokeh) {\n",
       "      console.log(\"Bokeh: injecting CSS: https://cdn.pydata.org/bokeh/release/bokeh-0.13.0.min.css\");\n",
       "      Bokeh.embed.inject_css(\"https://cdn.pydata.org/bokeh/release/bokeh-0.13.0.min.css\");\n",
       "      console.log(\"Bokeh: injecting CSS: https://cdn.pydata.org/bokeh/release/bokeh-widgets-0.13.0.min.css\");\n",
       "      Bokeh.embed.inject_css(\"https://cdn.pydata.org/bokeh/release/bokeh-widgets-0.13.0.min.css\");\n",
       "      console.log(\"Bokeh: injecting CSS: https://cdn.pydata.org/bokeh/release/bokeh-tables-0.13.0.min.css\");\n",
       "      Bokeh.embed.inject_css(\"https://cdn.pydata.org/bokeh/release/bokeh-tables-0.13.0.min.css\");\n",
       "    }\n",
       "  ];\n",
       "\n",
       "  function run_inline_js() {\n",
       "    \n",
       "    if ((root.Bokeh !== undefined) || (force === true)) {\n",
       "      for (var i = 0; i < inline_js.length; i++) {\n",
       "        inline_js[i].call(root, root.Bokeh);\n",
       "      }if (force === true) {\n",
       "        display_loaded();\n",
       "      }} else if (Date.now() < root._bokeh_timeout) {\n",
       "      setTimeout(run_inline_js, 100);\n",
       "    } else if (!root._bokeh_failed_load) {\n",
       "      console.log(\"Bokeh: BokehJS failed to load within specified timeout.\");\n",
       "      root._bokeh_failed_load = true;\n",
       "    } else if (force !== true) {\n",
       "      var cell = $(document.getElementById(\"9cc3de2e-1068-47c3-bd92-e1767643f24b\")).parents('.cell').data().cell;\n",
       "      cell.output_area.append_execute_result(NB_LOAD_WARNING)\n",
       "    }\n",
       "\n",
       "  }\n",
       "\n",
       "  if (root._bokeh_is_loading === 0) {\n",
       "    console.log(\"Bokeh: BokehJS loaded, going straight to plotting\");\n",
       "    run_inline_js();\n",
       "  } else {\n",
       "    load_libs(js_urls, function() {\n",
       "      console.log(\"Bokeh: BokehJS plotting callback run at\", now());\n",
       "      run_inline_js();\n",
       "    });\n",
       "  }\n",
       "}(window));"
      ],
      "application/vnd.bokehjs_load.v0+json": "\n(function(root) {\n  function now() {\n    return new Date();\n  }\n\n  var force = true;\n\n  if (typeof (root._bokeh_onload_callbacks) === \"undefined\" || force === true) {\n    root._bokeh_onload_callbacks = [];\n    root._bokeh_is_loading = undefined;\n  }\n\n  \n\n  \n  if (typeof (root._bokeh_timeout) === \"undefined\" || force === true) {\n    root._bokeh_timeout = Date.now() + 5000;\n    root._bokeh_failed_load = false;\n  }\n\n  var NB_LOAD_WARNING = {'data': {'text/html':\n     \"<div style='background-color: #fdd'>\\n\"+\n     \"<p>\\n\"+\n     \"BokehJS does not appear to have successfully loaded. If loading BokehJS from CDN, this \\n\"+\n     \"may be due to a slow or bad network connection. Possible fixes:\\n\"+\n     \"</p>\\n\"+\n     \"<ul>\\n\"+\n     \"<li>re-rerun `output_notebook()` to attempt to load from CDN again, or</li>\\n\"+\n     \"<li>use INLINE resources instead, as so:</li>\\n\"+\n     \"</ul>\\n\"+\n     \"<code>\\n\"+\n     \"from bokeh.resources import INLINE\\n\"+\n     \"output_notebook(resources=INLINE)\\n\"+\n     \"</code>\\n\"+\n     \"</div>\"}};\n\n  function display_loaded() {\n    var el = document.getElementById(\"9cc3de2e-1068-47c3-bd92-e1767643f24b\");\n    if (el != null) {\n      el.textContent = \"BokehJS is loading...\";\n    }\n    if (root.Bokeh !== undefined) {\n      if (el != null) {\n        el.textContent = \"BokehJS \" + root.Bokeh.version + \" successfully loaded.\";\n      }\n    } else if (Date.now() < root._bokeh_timeout) {\n      setTimeout(display_loaded, 100)\n    }\n  }\n\n\n  function run_callbacks() {\n    try {\n      root._bokeh_onload_callbacks.forEach(function(callback) { callback() });\n    }\n    finally {\n      delete root._bokeh_onload_callbacks\n    }\n    console.info(\"Bokeh: all callbacks have finished\");\n  }\n\n  function load_libs(js_urls, callback) {\n    root._bokeh_onload_callbacks.push(callback);\n    if (root._bokeh_is_loading > 0) {\n      console.log(\"Bokeh: BokehJS is being loaded, scheduling callback at\", now());\n      return null;\n    }\n    if (js_urls == null || js_urls.length === 0) {\n      run_callbacks();\n      return null;\n    }\n    console.log(\"Bokeh: BokehJS not loaded, scheduling load and callback at\", now());\n    root._bokeh_is_loading = js_urls.length;\n    for (var i = 0; i < js_urls.length; i++) {\n      var url = js_urls[i];\n      var s = document.createElement('script');\n      s.src = url;\n      s.async = false;\n      s.onreadystatechange = s.onload = function() {\n        root._bokeh_is_loading--;\n        if (root._bokeh_is_loading === 0) {\n          console.log(\"Bokeh: all BokehJS libraries loaded\");\n          run_callbacks()\n        }\n      };\n      s.onerror = function() {\n        console.warn(\"failed to load library \" + url);\n      };\n      console.log(\"Bokeh: injecting script tag for BokehJS library: \", url);\n      document.getElementsByTagName(\"head\")[0].appendChild(s);\n    }\n  };var element = document.getElementById(\"9cc3de2e-1068-47c3-bd92-e1767643f24b\");\n  if (element == null) {\n    console.log(\"Bokeh: ERROR: autoload.js configured with elementid '9cc3de2e-1068-47c3-bd92-e1767643f24b' but no matching script tag was found. \")\n    return false;\n  }\n\n  var js_urls = [\"https://cdn.pydata.org/bokeh/release/bokeh-0.13.0.min.js\", \"https://cdn.pydata.org/bokeh/release/bokeh-widgets-0.13.0.min.js\", \"https://cdn.pydata.org/bokeh/release/bokeh-tables-0.13.0.min.js\", \"https://cdn.pydata.org/bokeh/release/bokeh-gl-0.13.0.min.js\"];\n\n  var inline_js = [\n    function(Bokeh) {\n      Bokeh.set_log_level(\"info\");\n    },\n    \n    function(Bokeh) {\n      \n    },\n    function(Bokeh) {\n      console.log(\"Bokeh: injecting CSS: https://cdn.pydata.org/bokeh/release/bokeh-0.13.0.min.css\");\n      Bokeh.embed.inject_css(\"https://cdn.pydata.org/bokeh/release/bokeh-0.13.0.min.css\");\n      console.log(\"Bokeh: injecting CSS: https://cdn.pydata.org/bokeh/release/bokeh-widgets-0.13.0.min.css\");\n      Bokeh.embed.inject_css(\"https://cdn.pydata.org/bokeh/release/bokeh-widgets-0.13.0.min.css\");\n      console.log(\"Bokeh: injecting CSS: https://cdn.pydata.org/bokeh/release/bokeh-tables-0.13.0.min.css\");\n      Bokeh.embed.inject_css(\"https://cdn.pydata.org/bokeh/release/bokeh-tables-0.13.0.min.css\");\n    }\n  ];\n\n  function run_inline_js() {\n    \n    if ((root.Bokeh !== undefined) || (force === true)) {\n      for (var i = 0; i < inline_js.length; i++) {\n        inline_js[i].call(root, root.Bokeh);\n      }if (force === true) {\n        display_loaded();\n      }} else if (Date.now() < root._bokeh_timeout) {\n      setTimeout(run_inline_js, 100);\n    } else if (!root._bokeh_failed_load) {\n      console.log(\"Bokeh: BokehJS failed to load within specified timeout.\");\n      root._bokeh_failed_load = true;\n    } else if (force !== true) {\n      var cell = $(document.getElementById(\"9cc3de2e-1068-47c3-bd92-e1767643f24b\")).parents('.cell').data().cell;\n      cell.output_area.append_execute_result(NB_LOAD_WARNING)\n    }\n\n  }\n\n  if (root._bokeh_is_loading === 0) {\n    console.log(\"Bokeh: BokehJS loaded, going straight to plotting\");\n    run_inline_js();\n  } else {\n    load_libs(js_urls, function() {\n      console.log(\"Bokeh: BokehJS plotting callback run at\", now());\n      run_inline_js();\n    });\n  }\n}(window));"
     },
     "metadata": {},
     "output_type": "display_data"
    }
   ],
   "source": [
    "from bokeh.models import ColumnDataSource, LabelSet\n",
    "from bokeh.plotting import figure, show, output_file\n",
    "from bokeh.io import output_notebook\n",
    "output_notebook()"
   ]
  },
  {
   "cell_type": "markdown",
   "metadata": {},
   "source": [
    "### Part 0: Download the TED dataset"
   ]
  },
  {
   "cell_type": "code",
   "execution_count": 3,
   "metadata": {
    "collapsed": false
   },
   "outputs": [],
   "source": [
    "import urllib.request\n",
    "import zipfile\n",
    "import lxml.etree"
   ]
  },
  {
   "cell_type": "code",
   "execution_count": 4,
   "metadata": {
    "collapsed": false
   },
   "outputs": [],
   "source": [
    "# Download the dataset if it's not already there: this may take a minute as it is 75MB\n",
    "if not os.path.isfile('ted_en-20160408.zip'):\n",
    "    urllib.request.urlretrieve(\"https://wit3.fbk.eu/get.php?path=XML_releases/xml/ted_en-20160408.zip&filename=ted_en-20160408.zip\", filename=\"ted_en-20160408.zip\")"
   ]
  },
  {
   "cell_type": "code",
   "execution_count": 5,
   "metadata": {
    "collapsed": true
   },
   "outputs": [],
   "source": [
    "# For now, we're only interested in the subtitle text, so let's extract that from the XML:\n",
    "with zipfile.ZipFile('ted_en-20160408.zip', 'r') as z:\n",
    "    doc = lxml.etree.parse(z.open('ted_en-20160408.xml', 'r'))\n",
    "input_text = '\\n'.join(doc.xpath('//content/text()'))\n",
    "del doc"
   ]
  },
  {
   "cell_type": "markdown",
   "metadata": {},
   "source": [
    "### Part 1: Preprocessing\n",
    "\n",
    "In this part, we attempt to clean up the raw subtitles a bit, so that we get only sentences. The following substring shows examples of what we're trying to get rid of. Since it's hard to define precisely what we want to get rid of, we'll just use some simple heuristics."
   ]
  },
  {
   "cell_type": "code",
   "execution_count": 6,
   "metadata": {
    "collapsed": false,
    "scrolled": false
   },
   "outputs": [
    {
     "data": {
      "text/plain": [
       "' baby does.\\n(Video) Hyowon Gweon: See this? (Ball squeaks) Did you see that? (Ball squeaks) Cool. See this one? (Ball squeaks) Wow.\\nLaura Schulz: Told you. (Laughs)\\n(Vide'"
      ]
     },
     "execution_count": 6,
     "metadata": {},
     "output_type": "execute_result"
    }
   ],
   "source": [
    "i = input_text.find(\"Hyowon Gweon: See this?\")\n",
    "input_text[i-20:i+150]"
   ]
  },
  {
   "cell_type": "markdown",
   "metadata": {},
   "source": [
    "Let's start by removing all parenthesized strings using a regex:"
   ]
  },
  {
   "cell_type": "code",
   "execution_count": 7,
   "metadata": {
    "collapsed": true
   },
   "outputs": [],
   "source": [
    "input_text_noparens = re.sub(r'\\([^)]*\\)', '', input_text)"
   ]
  },
  {
   "cell_type": "markdown",
   "metadata": {},
   "source": [
    "We can verify the same location in the text is now clean as follows. We won't worry about the irregular spaces since we'll later split the text into sentences and tokenize it anyway."
   ]
  },
  {
   "cell_type": "code",
   "execution_count": 8,
   "metadata": {
    "collapsed": false
   },
   "outputs": [
    {
     "data": {
      "text/plain": [
       "\"hat the baby does.\\n Hyowon Gweon: See this?  Did you see that?  Cool. See this one?  Wow.\\nLaura Schulz: Told you. \\n HG: See this one?  Hey Clara, this one's for you. You \""
      ]
     },
     "execution_count": 8,
     "metadata": {},
     "output_type": "execute_result"
    }
   ],
   "source": [
    "i = input_text_noparens.find(\"Hyowon Gweon: See this?\")\n",
    "input_text_noparens[i-20:i+150]"
   ]
  },
  {
   "cell_type": "markdown",
   "metadata": {},
   "source": [
    "Now, let's attempt to remove speakers' names that occur at the beginning of a line, by deleting pieces of the form \"`<up to 20 characters>:`\", as shown in this example. Of course, this is an imperfect heuristic. "
   ]
  },
  {
   "cell_type": "code",
   "execution_count": 9,
   "metadata": {
    "collapsed": false
   },
   "outputs": [
    {
     "data": {
      "text/plain": [
       "[\"Here are two reasons companies fail: they only do more of the same, or they only do what's new\",\n",
       " 'To me the real, real solution to quality growth is figuring out the balance between two activities: exploration and exploitation',\n",
       " ' Both are necessary, but it can be too much of a good thing',\n",
       " 'Consider Facit',\n",
       " \" I'm actually old enough to remember them\"]"
      ]
     },
     "execution_count": 9,
     "metadata": {},
     "output_type": "execute_result"
    }
   ],
   "source": [
    "sentences_strings_ted = []\n",
    "for line in input_text_noparens.split('\\n'):\n",
    "    m = re.match(r'^(?:(?P<precolon>[^:]{,20}):)?(?P<postcolon>.*)$', line)\n",
    "    sentences_strings_ted.extend(sent for sent in m.groupdict()['postcolon'].split('.') if sent)\n",
    "\n",
    "# Uncomment if you need to save some RAM: these strings are about 50MB.\n",
    "# del input_text, input_text_noparens\n",
    "\n",
    "# Let's view the first few:\n",
    "sentences_strings_ted[:5]"
   ]
  },
  {
   "cell_type": "markdown",
   "metadata": {},
   "source": [
    "Now that we have sentences, we're ready to tokenize each of them into words. This tokenization is imperfect, of course. For instance, how many tokens is \"can't\", and where/how do we split it? We'll take the simplest naive approach of splitting on spaces. Before splitting, we remove non-alphanumeric characters, such as punctuation. You may want to consider the following question: why do we replace these characters with spaces rather than deleting them? Think of a case where this yields a different answer."
   ]
  },
  {
   "cell_type": "code",
   "execution_count": 10,
   "metadata": {
    "collapsed": false
   },
   "outputs": [],
   "source": [
    "sentences_ted = []\n",
    "for sent_str in sentences_strings_ted:\n",
    "    tokens = re.sub(r\"[^a-z0-9]+\", \" \", sent_str.lower()).split()\n",
    "    sentences_ted.append(tokens)"
   ]
  },
  {
   "cell_type": "markdown",
   "metadata": {},
   "source": [
    "Two sample processed sentences:"
   ]
  },
  {
   "cell_type": "code",
   "execution_count": 11,
   "metadata": {
    "collapsed": false
   },
   "outputs": [
    {
     "data": {
      "text/plain": [
       "266694"
      ]
     },
     "execution_count": 11,
     "metadata": {},
     "output_type": "execute_result"
    }
   ],
   "source": [
    "len(sentences_ted)"
   ]
  },
  {
   "cell_type": "code",
   "execution_count": 46,
   "metadata": {
    "collapsed": false
   },
   "outputs": [
    {
     "name": "stdout",
     "output_type": "stream",
     "text": [
      "['here', 'are', 'two', 'reasons', 'companies', 'fail', 'they', 'only', 'do', 'more', 'of', 'the', 'same', 'or', 'they', 'only', 'do', 'what', 's', 'new']\n",
      "['to', 'me', 'the', 'real', 'real', 'solution', 'to', 'quality', 'growth', 'is', 'figuring', 'out', 'the', 'balance', 'between', 'two', 'activities', 'exploration', 'and', 'exploitation']\n"
     ]
    }
   ],
   "source": [
    "print(sentences_ted[0])\n",
    "print(sentences_ted[1])"
   ]
  },
  {
   "cell_type": "markdown",
   "metadata": {},
   "source": [
    "### Part 2: Word Frequencies"
   ]
  },
  {
   "cell_type": "markdown",
   "metadata": {},
   "source": [
    "If you store the counts of the top 1000 words in a list called `counts_ted_top1000`, the code below will plot the histogram requested in the writeup."
   ]
  },
  {
   "cell_type": "code",
   "execution_count": 48,
   "metadata": {
    "collapsed": true
   },
   "outputs": [],
   "source": [
    "all_words = {}\n",
    "for sen in sentences_ted:\n",
    "    for word in sen:\n",
    "        if word not in all_words:\n",
    "            all_words[word] = 0\n",
    "        all_words[word] += 1"
   ]
  },
  {
   "cell_type": "code",
   "execution_count": 70,
   "metadata": {},
   "outputs": [],
   "source": [
    "from operator import itemgetter, attrgetter, methodcaller\n",
    "counts_ted_top1000 = [i[1] for i in sorted(list(all_words.items()), key=itemgetter(1))[-1000:]]\n",
    "words_ted_top1000 = [i[0] for i in sorted(list(all_words.items()), key=itemgetter(1))[-1000:]]"
   ]
  },
  {
   "cell_type": "markdown",
   "metadata": {},
   "source": [
    "Plot distribution of top-1000 words"
   ]
  },
  {
   "cell_type": "code",
   "execution_count": 71,
   "metadata": {
    "collapsed": false
   },
   "outputs": [
    {
     "name": "stderr",
     "output_type": "stream",
     "text": [
      "C:\\Users\\surov\\Anaconda3\\envs\\tensorflow\\lib\\site-packages\\ipykernel_launcher.py:1: DeprecationWarning: The normed argument is ignored when density is provided. In future passing both will result in an error.\n",
      "  \"\"\"Entry point for launching an IPython kernel.\n"
     ]
    },
    {
     "data": {
      "text/html": [
       "\n",
       "\n",
       "\n",
       "\n",
       "\n",
       "\n",
       "  <div class=\"bk-root\" id=\"166b2a89-3d0f-471e-bd5c-4cd4c1b94627\"></div>\n"
      ]
     },
     "metadata": {},
     "output_type": "display_data"
    },
    {
     "data": {
      "application/javascript": [
       "(function(root) {\n",
       "  function embed_document(root) {\n",
       "    \n",
       "  var docs_json = {\"2d7b5846-5e7c-4ac7-89fa-65d7bbb78dfa\":{\"roots\":{\"references\":[{\"attributes\":{},\"id\":\"63487625-f3ed-403e-8d50-4cc37159b4f7\",\"type\":\"LinearScale\"},{\"attributes\":{},\"id\":\"99660b1c-d328-4390-ade5-87dd076a84a1\",\"type\":\"BasicTicker\"},{\"attributes\":{},\"id\":\"3443ebfc-eb93-4996-8d66-1d3b30af183d\",\"type\":\"WheelZoomTool\"},{\"attributes\":{\"below\":[{\"id\":\"c9ed0746-6680-4946-b785-18611d4e1a85\",\"type\":\"LinearAxis\"}],\"left\":[{\"id\":\"3b64b88f-e56e-40f7-882f-e8c358aa48cd\",\"type\":\"LinearAxis\"}],\"renderers\":[{\"id\":\"c9ed0746-6680-4946-b785-18611d4e1a85\",\"type\":\"LinearAxis\"},{\"id\":\"6b224791-4a15-45ff-918a-4d266e82d05b\",\"type\":\"Grid\"},{\"id\":\"3b64b88f-e56e-40f7-882f-e8c358aa48cd\",\"type\":\"LinearAxis\"},{\"id\":\"d7c5f285-e148-4a99-9135-f7b126d54e35\",\"type\":\"Grid\"},{\"id\":\"f91d8131-a4a9-40d7-99ab-8150dbcadbf2\",\"type\":\"GlyphRenderer\"}],\"title\":{\"id\":\"b5132fd7-12c5-4259-a104-46c7bfcf9263\",\"type\":\"Title\"},\"toolbar\":{\"id\":\"1aa651d9-31d8-4f14-8ce7-8c2a8f1b9137\",\"type\":\"Toolbar\"},\"toolbar_location\":\"above\",\"x_range\":{\"id\":\"8f7341bc-8c85-41ca-a5d5-3605d1d0ea8c\",\"type\":\"DataRange1d\"},\"x_scale\":{\"id\":\"861f1234-9711-45e3-a7a1-60c49013b908\",\"type\":\"LinearScale\"},\"y_range\":{\"id\":\"adc65313-eb10-47bf-a5ff-0f4682ac7400\",\"type\":\"DataRange1d\"},\"y_scale\":{\"id\":\"63487625-f3ed-403e-8d50-4cc37159b4f7\",\"type\":\"LinearScale\"}},\"id\":\"b6c67484-02bb-4285-bbce-9f30601443eb\",\"subtype\":\"Figure\",\"type\":\"Plot\"},{\"attributes\":{},\"id\":\"c3f2d559-51c7-4c6b-b569-c24b0ae90835\",\"type\":\"BasicTickFormatter\"},{\"attributes\":{\"dimension\":1,\"plot\":{\"id\":\"b6c67484-02bb-4285-bbce-9f30601443eb\",\"subtype\":\"Figure\",\"type\":\"Plot\"},\"ticker\":{\"id\":\"99660b1c-d328-4390-ade5-87dd076a84a1\",\"type\":\"BasicTicker\"}},\"id\":\"d7c5f285-e148-4a99-9135-f7b126d54e35\",\"type\":\"Grid\"},{\"attributes\":{\"formatter\":{\"id\":\"c3f2d559-51c7-4c6b-b569-c24b0ae90835\",\"type\":\"BasicTickFormatter\"},\"plot\":{\"id\":\"b6c67484-02bb-4285-bbce-9f30601443eb\",\"subtype\":\"Figure\",\"type\":\"Plot\"},\"ticker\":{\"id\":\"99660b1c-d328-4390-ade5-87dd076a84a1\",\"type\":\"BasicTicker\"}},\"id\":\"3b64b88f-e56e-40f7-882f-e8c358aa48cd\",\"type\":\"LinearAxis\"},{\"attributes\":{\"formatter\":{\"id\":\"db6d2e6c-2464-4536-8ee0-5a1a0be9d2ae\",\"type\":\"BasicTickFormatter\"},\"plot\":{\"id\":\"b6c67484-02bb-4285-bbce-9f30601443eb\",\"subtype\":\"Figure\",\"type\":\"Plot\"},\"ticker\":{\"id\":\"2a0c451f-c5ec-47c6-8713-ab0fdde75312\",\"type\":\"BasicTicker\"}},\"id\":\"c9ed0746-6680-4946-b785-18611d4e1a85\",\"type\":\"LinearAxis\"},{\"attributes\":{\"data_source\":{\"id\":\"a9ddaa88-ebd5-4765-a284-20ab0da71d31\",\"type\":\"ColumnDataSource\"},\"glyph\":{\"id\":\"efc7c57d-d3c3-4a08-866c-0608d0913432\",\"type\":\"Quad\"},\"hover_glyph\":null,\"muted_glyph\":null,\"nonselection_glyph\":{\"id\":\"09d3611e-2c96-4ec9-9b1e-7aa300754a7e\",\"type\":\"Quad\"},\"selection_glyph\":null,\"view\":{\"id\":\"b827f7de-799d-4505-b32b-c9b1c1af9416\",\"type\":\"CDSView\"}},\"id\":\"f91d8131-a4a9-40d7-99ab-8150dbcadbf2\",\"type\":\"GlyphRenderer\"},{\"attributes\":{\"bottom\":{\"value\":0},\"fill_color\":{\"value\":\"#1f77b4\"},\"left\":{\"field\":\"left\"},\"line_color\":{\"value\":\"#555555\"},\"right\":{\"field\":\"right\"},\"top\":{\"field\":\"top\"}},\"id\":\"efc7c57d-d3c3-4a08-866c-0608d0913432\",\"type\":\"Quad\"},{\"attributes\":{\"bottom\":{\"value\":0},\"fill_alpha\":{\"value\":0.1},\"fill_color\":{\"value\":\"#1f77b4\"},\"left\":{\"field\":\"left\"},\"line_alpha\":{\"value\":0.1},\"line_color\":{\"value\":\"#1f77b4\"},\"right\":{\"field\":\"right\"},\"top\":{\"field\":\"top\"}},\"id\":\"09d3611e-2c96-4ec9-9b1e-7aa300754a7e\",\"type\":\"Quad\"},{\"attributes\":{\"plot\":null,\"text\":\"Top-1000 words distribution\"},\"id\":\"b5132fd7-12c5-4259-a104-46c7bfcf9263\",\"type\":\"Title\"},{\"attributes\":{\"callback\":null},\"id\":\"adc65313-eb10-47bf-a5ff-0f4682ac7400\",\"type\":\"DataRange1d\"},{\"attributes\":{},\"id\":\"b5bde370-3ea8-4dd4-8a8d-5cf3a3e357b9\",\"type\":\"UnionRenderers\"},{\"attributes\":{\"active_drag\":\"auto\",\"active_inspect\":\"auto\",\"active_multi\":null,\"active_scroll\":\"auto\",\"active_tap\":\"auto\",\"tools\":[{\"id\":\"0082598e-fe04-4382-a13c-2d312ad3e979\",\"type\":\"PanTool\"},{\"id\":\"3443ebfc-eb93-4996-8d66-1d3b30af183d\",\"type\":\"WheelZoomTool\"},{\"id\":\"845dfa45-9c88-4f59-be24-778454f26113\",\"type\":\"ResetTool\"},{\"id\":\"c465b770-bdda-43e9-81c3-682a51844e53\",\"type\":\"SaveTool\"}]},\"id\":\"1aa651d9-31d8-4f14-8ce7-8c2a8f1b9137\",\"type\":\"Toolbar\"},{\"attributes\":{},\"id\":\"2a0c451f-c5ec-47c6-8713-ab0fdde75312\",\"type\":\"BasicTicker\"},{\"attributes\":{},\"id\":\"0082598e-fe04-4382-a13c-2d312ad3e979\",\"type\":\"PanTool\"},{\"attributes\":{},\"id\":\"845dfa45-9c88-4f59-be24-778454f26113\",\"type\":\"ResetTool\"},{\"attributes\":{\"callback\":null},\"id\":\"8f7341bc-8c85-41ca-a5d5-3605d1d0ea8c\",\"type\":\"DataRange1d\"},{\"attributes\":{},\"id\":\"c465b770-bdda-43e9-81c3-682a51844e53\",\"type\":\"SaveTool\"},{\"attributes\":{},\"id\":\"861f1234-9711-45e3-a7a1-60c49013b908\",\"type\":\"LinearScale\"},{\"attributes\":{\"source\":{\"id\":\"a9ddaa88-ebd5-4765-a284-20ab0da71d31\",\"type\":\"ColumnDataSource\"}},\"id\":\"b827f7de-799d-4505-b32b-c9b1c1af9416\",\"type\":\"CDSView\"},{\"attributes\":{},\"id\":\"db6d2e6c-2464-4536-8ee0-5a1a0be9d2ae\",\"type\":\"BasicTickFormatter\"},{\"attributes\":{},\"id\":\"5c9d106f-9565-484f-80a3-d53ca42a6449\",\"type\":\"Selection\"},{\"attributes\":{\"plot\":{\"id\":\"b6c67484-02bb-4285-bbce-9f30601443eb\",\"subtype\":\"Figure\",\"type\":\"Plot\"},\"ticker\":{\"id\":\"2a0c451f-c5ec-47c6-8713-ab0fdde75312\",\"type\":\"BasicTicker\"}},\"id\":\"6b224791-4a15-45ff-918a-4d266e82d05b\",\"type\":\"Grid\"},{\"attributes\":{\"callback\":null,\"data\":{\"left\":{\"__ndarray__\":\"AAAAAABAeUB7FK5H4VqjQHsUrkfhxrFAuB6F61HguUB7FK5H4fzAQJqZmZmZCcVAuB6F61EWyUDXo3A9CiPNQHsUrkfhl9BACtejcD2e0kCamZmZmaTUQClcj8L1qtZAuB6F61Gx2EBI4XoUrrfaQNejcD0KvtxAZ2ZmZmbE3kB7FK5HYWXgQMP1KFyPaOFACtejcL1r4kBSuB6F627jQJqZmZkZcuRA4XoUrkd15UApXI/CdXjmQHE9Cteje+dAuB6F69F+6EAAAAAAAILpQEjhehQuhepAkML1KFyI60DXo3A9iovsQB+F61G4ju1AZ2ZmZuaR7kCuR+F6FJXvQHsUrkchTPBAH4XrUbjN8EDD9ShcT0/xQGdmZmbm0PFACtejcH1S8kCuR+F6FNTyQFK4HoWrVfNA9ihcj0LX80CamZmZ2Vj0QD4K16Nw2vRA4XoUrgdc9UCF61G4nt31QClcj8I1X/ZAzczMzMzg9kBxPQrXY2L3QBWuR+H64/dAuB6F65Fl+EBcj8L1KOf4QAAAAADAaPlApHA9Clfq+UBI4XoU7mv6QOxRuB6F7fpAkML1KBxv+0AzMzMzs/D7QNejcD1KcvxAexSuR+Hz/EAfhetReHX9QMP1KFwP9/1AZ2ZmZqZ4/kAK16NwPfr+QK5H4XrUe/9AUrgehWv9/0B7FK5HgT8AQc3MzMxMgABBH4XrURjBAEFxPQrX4wEBQcP1KFyvQgFBFa5H4XqDAUFnZmZmRsQBQbgehesRBQJBCtejcN1FAkFcj8L1qIYCQa5H4Xp0xwJBAAAAAEAIA0FSuB6FC0kDQaRwPQrXiQNB9ihcj6LKA0FI4XoUbgsEQZqZmZk5TARB7FG4HgWNBEE+Ctej0M0EQZDC9SicDgVB4XoUrmdPBUEzMzMzM5AFQYXrUbj+0AVB16NwPcoRBkEpXI/ClVIGQXsUrkdhkwZBzczMzCzUBkEfhetR+BQHQXE9CtfDVQdBw/UoXI+WB0EVrkfhWtcHQWdmZmYmGAhBuB6F6/FYCEEK16NwvZkIQVyPwvWI2ghBrkfhelQbCUE=\",\"dtype\":\"float64\",\"shape\":[100]},\"right\":{\"__ndarray__\":\"exSuR+Fao0B7FK5H4caxQLgehetR4LlAexSuR+H8wECamZmZmQnFQLgehetRFslA16NwPQojzUB7FK5H4ZfQQArXo3A9ntJAmpmZmZmk1EApXI/C9arWQLgehetRsdhASOF6FK632kDXo3A9Cr7cQGdmZmZmxN5AexSuR2Fl4EDD9Shcj2jhQArXo3C9a+JAUrgehetu40CamZmZGXLkQOF6FK5HdeVAKVyPwnV45kBxPQrXo3vnQLgehevRfuhAAAAAAACC6UBI4XoULoXqQJDC9ShciOtA16NwPYqL7EAfhetRuI7tQGdmZmbmke5ArkfhehSV70B7FK5HIUzwQB+F61G4zfBAw/UoXE9P8UBnZmZm5tDxQArXo3B9UvJArkfhehTU8kBSuB6Fq1XzQPYoXI9C1/NAmpmZmdlY9EA+CtejcNr0QOF6FK4HXPVAhetRuJ7d9UApXI/CNV/2QM3MzMzM4PZAcT0K12Ni90AVrkfh+uP3QLgeheuRZfhAXI/C9Sjn+EAAAAAAwGj5QKRwPQpX6vlASOF6FO5r+kDsUbgehe36QJDC9Sgcb/tAMzMzM7Pw+0DXo3A9SnL8QHsUrkfh8/xAH4XrUXh1/UDD9ShcD/f9QGdmZmameP5ACtejcD36/kCuR+F61Hv/QFK4HoVr/f9AexSuR4E/AEHNzMzMTIAAQR+F61EYwQBBcT0K1+MBAUHD9Shcr0IBQRWuR+F6gwFBZ2ZmZkbEAUG4HoXrEQUCQQrXo3DdRQJBXI/C9aiGAkGuR+F6dMcCQQAAAABACANBUrgehQtJA0GkcD0K14kDQfYoXI+iygNBSOF6FG4LBEGamZmZOUwEQexRuB4FjQRBPgrXo9DNBEGQwvUonA4FQeF6FK5nTwVBMzMzMzOQBUGF61G4/tAFQdejcD3KEQZBKVyPwpVSBkF7FK5HYZMGQc3MzMws1AZBH4XrUfgUB0FxPQrXw1UHQcP1KFyPlgdBFa5H4VrXB0FnZmZmJhgIQbgehevxWAhBCtejcL2ZCEFcj8L1iNoIQa5H4XpUGwlBAAAAACBcCUE=\",\"dtype\":\"float64\",\"shape\":[100]},\"top\":{\"__ndarray__\":\"50H1zNSBOT/ypb1tgHIBPwsriUb5Uew+zuTFiLI04j78kGUPxTHhPh40R25oQNY+zuTFiLI00j4pPQWW1y7APsTbB2FDRsg+JT0FltcuwD4tPQWW1y6wPi09BZbXLrA+JT0FltcuwD4tPQWW1y6gPiU9BZbXLrA+LT0FltcuoD4AAAAAAAAAADU9BZbXLqA+AAAAAAAAAAAAAAAAAAAAAAAAAAAAAAAAAAAAAAAAAAAAAAAAAAAAADU9BZbXLqA+AAAAAAAAAAAAAAAAAAAAAAAAAAAAAAAANT0FltcuoD4AAAAAAAAAAAAAAAAAAAAANT0FltcuoD4AAAAAAAAAACU9BZbXLqA+AAAAAAAAAAAlPQWW1y6gPkU9BZbXLqA+AAAAAAAAAAAlPQWW1y6gPgAAAAAAAAAAJT0FltcuoD4AAAAAAAAAAAAAAAAAAAAAAAAAAAAAAAAAAAAAAAAAAAAAAAAAAAAAJT0FltcuoD4AAAAAAAAAAAAAAAAAAAAAAAAAAAAAAAAAAAAAAAAAACU9BZbXLqA+AAAAAAAAAAAAAAAAAAAAAAAAAAAAAAAAAAAAAAAAAAAlPQWW1y6gPgAAAAAAAAAAAAAAAAAAAAAAAAAAAAAAAAAAAAAAAAAART0FltcuoD4AAAAAAAAAAAAAAAAAAAAAAAAAAAAAAAAAAAAAAAAAAAAAAAAAAAAAAAAAAAAAAAAAAAAAAAAAAAAAAAAAAAAAAAAAAAAAAAAAAAAAAAAAACU9BZbXLqA+AAAAAAAAAAAAAAAAAAAAAAAAAAAAAAAAAAAAAAAAAAAAAAAAAAAAAAAAAAAAAAAAAAAAAAAAAAAAAAAAAAAAAAAAAAAAAAAAAAAAAAAAAAAAAAAAAAAAAAAAAAAAAAAAAAAAAAAAAAAAAAAAAAAAAAAAAAAAAAAAAAAAAAAAAAAAAAAAAAAAAAAAAAAAAAAAAAAAAAAAAAAAAAAAAAAAAAAAAAAAAAAAAAAAAAAAAAAAAAAAAAAAAAAAAAAAAAAAAAAAAAAAAAAAAAAAAAAAAAAAAAAAAAAAJT0FltcuoD4=\",\"dtype\":\"float64\",\"shape\":[100]}},\"selected\":{\"id\":\"5c9d106f-9565-484f-80a3-d53ca42a6449\",\"type\":\"Selection\"},\"selection_policy\":{\"id\":\"b5bde370-3ea8-4dd4-8a8d-5cf3a3e357b9\",\"type\":\"UnionRenderers\"}},\"id\":\"a9ddaa88-ebd5-4765-a284-20ab0da71d31\",\"type\":\"ColumnDataSource\"}],\"root_ids\":[\"b6c67484-02bb-4285-bbce-9f30601443eb\"]},\"title\":\"Bokeh Application\",\"version\":\"0.13.0\"}};\n",
       "  var render_items = [{\"docid\":\"2d7b5846-5e7c-4ac7-89fa-65d7bbb78dfa\",\"roots\":{\"b6c67484-02bb-4285-bbce-9f30601443eb\":\"166b2a89-3d0f-471e-bd5c-4cd4c1b94627\"}}];\n",
       "  root.Bokeh.embed.embed_items_notebook(docs_json, render_items);\n",
       "\n",
       "  }\n",
       "  if (root.Bokeh !== undefined) {\n",
       "    embed_document(root);\n",
       "  } else {\n",
       "    var attempts = 0;\n",
       "    var timer = setInterval(function(root) {\n",
       "      if (root.Bokeh !== undefined) {\n",
       "        embed_document(root);\n",
       "        clearInterval(timer);\n",
       "      }\n",
       "      attempts++;\n",
       "      if (attempts > 100) {\n",
       "        console.log(\"Bokeh: ERROR: Unable to run BokehJS code because BokehJS library is missing\")\n",
       "        clearInterval(timer);\n",
       "      }\n",
       "    }, 10, root)\n",
       "  }\n",
       "})(window);"
      ],
      "application/vnd.bokehjs_exec.v0+json": ""
     },
     "metadata": {
      "application/vnd.bokehjs_exec.v0+json": {
       "id": "b6c67484-02bb-4285-bbce-9f30601443eb"
      }
     },
     "output_type": "display_data"
    }
   ],
   "source": [
    "hist, edges = np.histogram(counts_ted_top1000, density=True, bins=100, normed=True)\n",
    "\n",
    "p = figure(tools=\"pan,wheel_zoom,reset,save\",\n",
    "           toolbar_location=\"above\",\n",
    "           title=\"Top-1000 words distribution\")\n",
    "p.quad(top=hist, bottom=0, left=edges[:-1], right=edges[1:], line_color=\"#555555\")\n",
    "show(p)"
   ]
  },
  {
   "cell_type": "markdown",
   "metadata": {},
   "source": [
    "### Part 3: Train Word2Vec"
   ]
  },
  {
   "cell_type": "code",
   "execution_count": 72,
   "metadata": {
    "collapsed": false
   },
   "outputs": [],
   "source": [
    "from gensim.models import Word2Vec"
   ]
  },
  {
   "cell_type": "code",
   "execution_count": 73,
   "metadata": {
    "collapsed": true
   },
   "outputs": [],
   "source": [
    "model_ted = Word2Vec(sentences_ted, size=200)"
   ]
  },
  {
   "cell_type": "markdown",
   "metadata": {},
   "source": [
    "### Part 4: Ted Learnt Representations"
   ]
  },
  {
   "cell_type": "markdown",
   "metadata": {},
   "source": [
    "Finding similar words: (see gensim docs for more functionality of `most_similar`)"
   ]
  },
  {
   "cell_type": "code",
   "execution_count": 74,
   "metadata": {
    "collapsed": false
   },
   "outputs": [
    {
     "name": "stderr",
     "output_type": "stream",
     "text": [
      "C:\\Users\\surov\\Anaconda3\\envs\\tensorflow\\lib\\site-packages\\ipykernel_launcher.py:1: DeprecationWarning: Call to deprecated `most_similar` (Method will be removed in 4.0.0, use self.wv.most_similar() instead).\n",
      "  \"\"\"Entry point for launching an IPython kernel.\n"
     ]
    },
    {
     "data": {
      "text/plain": [
       "[('woman', 0.8399990797042847),\n",
       " ('guy', 0.807458758354187),\n",
       " ('lady', 0.7705406546592712),\n",
       " ('girl', 0.7399415969848633),\n",
       " ('boy', 0.7336286902427673),\n",
       " ('soldier', 0.7226300835609436),\n",
       " ('poet', 0.7047522068023682),\n",
       " ('kid', 0.6899528503417969),\n",
       " ('gentleman', 0.689437747001648),\n",
       " ('david', 0.6676108837127686)]"
      ]
     },
     "execution_count": 74,
     "metadata": {},
     "output_type": "execute_result"
    }
   ],
   "source": [
    "model_ted.most_similar(\"man\")"
   ]
  },
  {
   "cell_type": "code",
   "execution_count": 75,
   "metadata": {
    "collapsed": true
   },
   "outputs": [
    {
     "name": "stderr",
     "output_type": "stream",
     "text": [
      "C:\\Users\\surov\\Anaconda3\\envs\\tensorflow\\lib\\site-packages\\ipykernel_launcher.py:1: DeprecationWarning: Call to deprecated `most_similar` (Method will be removed in 4.0.0, use self.wv.most_similar() instead).\n",
      "  \"\"\"Entry point for launching an IPython kernel.\n"
     ]
    },
    {
     "data": {
      "text/plain": [
       "[('machine', 0.7516987323760986),\n",
       " ('software', 0.7180026769638062),\n",
       " ('device', 0.6691364645957947),\n",
       " ('3d', 0.6662781238555908),\n",
       " ('program', 0.6573984622955322),\n",
       " ('robot', 0.6531726121902466),\n",
       " ('chip', 0.6459875106811523),\n",
       " ('interface', 0.640151858329773),\n",
       " ('printer', 0.6329081058502197),\n",
       " ('camera', 0.6281134486198425)]"
      ]
     },
     "execution_count": 75,
     "metadata": {},
     "output_type": "execute_result"
    }
   ],
   "source": [
    "model_ted.most_similar(\"computer\")"
   ]
  },
  {
   "cell_type": "code",
   "execution_count": 76,
   "metadata": {
    "collapsed": true
   },
   "outputs": [],
   "source": [
    "# ..."
   ]
  },
  {
   "cell_type": "markdown",
   "metadata": {},
   "source": [
    "#### t-SNE visualization\n",
    "To use the t-SNE code below, first put a list of the top 1000 words (as strings) into a variable `words_top_ted`. The following code gets the corresponding vectors from the model, assuming it's called `model_ted`:"
   ]
  },
  {
   "cell_type": "code",
   "execution_count": 80,
   "metadata": {
    "collapsed": false
   },
   "outputs": [
    {
     "name": "stderr",
     "output_type": "stream",
     "text": [
      "C:\\Users\\surov\\Anaconda3\\envs\\tensorflow\\lib\\site-packages\\ipykernel_launcher.py:2: DeprecationWarning: Call to deprecated `__getitem__` (Method will be removed in 4.0.0, use self.wv.__getitem__() instead).\n",
      "  \n"
     ]
    }
   ],
   "source": [
    "# This assumes words_top_ted is a list of strings, the top 1000 words\n",
    "words_top_vec_ted = model_ted[words_ted_top1000]"
   ]
  },
  {
   "cell_type": "code",
   "execution_count": 81,
   "metadata": {
    "collapsed": false
   },
   "outputs": [],
   "source": [
    "from sklearn.manifold import TSNE\n",
    "tsne = TSNE(n_components=2, random_state=0)\n",
    "words_top_ted_tsne = tsne.fit_transform(words_top_vec_ted)"
   ]
  },
  {
   "cell_type": "code",
   "execution_count": 84,
   "metadata": {
    "collapsed": false
   },
   "outputs": [
    {
     "data": {
      "text/html": [
       "\n",
       "\n",
       "\n",
       "\n",
       "\n",
       "\n",
       "  <div class=\"bk-root\" id=\"8ee12fd1-d7e2-4bf7-a3f3-06616cdc369d\"></div>\n"
      ]
     },
     "metadata": {},
     "output_type": "display_data"
    },
    {
     "data": {
      "application/javascript": [
       "(function(root) {\n",
       "  function embed_document(root) {\n",
       "    \n",
       "  var docs_json = {\"cce8b03c-89b9-472a-8862-1a69ef9bca93\":{\"roots\":{\"references\":[{\"attributes\":{},\"id\":\"8a34457a-3805-4856-af8a-85f750034586\",\"type\":\"UnionRenderers\"},{\"attributes\":{\"below\":[{\"id\":\"3f8b4229-9f87-4705-9fb9-14baa591aed3\",\"type\":\"LinearAxis\"}],\"left\":[{\"id\":\"4fe33137-0893-46ef-a942-3537d309d866\",\"type\":\"LinearAxis\"}],\"renderers\":[{\"id\":\"3f8b4229-9f87-4705-9fb9-14baa591aed3\",\"type\":\"LinearAxis\"},{\"id\":\"685edb98-a1d4-4f2c-9ea9-ce495c7229f9\",\"type\":\"Grid\"},{\"id\":\"4fe33137-0893-46ef-a942-3537d309d866\",\"type\":\"LinearAxis\"},{\"id\":\"a0159f7e-9d77-4fe4-856c-a6d00eaacdd0\",\"type\":\"Grid\"},{\"id\":\"a0b3d875-c4f9-4b26-a4e3-3572cd80e734\",\"type\":\"GlyphRenderer\"},{\"id\":\"e95aeb10-f9c6-4772-8d1a-50a7a7bb0a2f\",\"type\":\"LabelSet\"}],\"title\":{\"id\":\"de1e35d6-654e-46d7-b841-eb37551ac508\",\"type\":\"Title\"},\"toolbar\":{\"id\":\"8acd56ec-b996-4d9b-945c-72f3cca7ebe0\",\"type\":\"Toolbar\"},\"toolbar_location\":\"above\",\"x_range\":{\"id\":\"1e608bfc-2fcc-488d-9b2c-c4aa3be24a20\",\"type\":\"DataRange1d\"},\"x_scale\":{\"id\":\"8ba2b48b-e3b6-41ca-9be5-53e6ae6a0b1b\",\"type\":\"LinearScale\"},\"y_range\":{\"id\":\"9f134b67-b348-4849-b817-68500b8ad8ec\",\"type\":\"DataRange1d\"},\"y_scale\":{\"id\":\"98033197-28ec-4d64-8e72-fee25eaaf452\",\"type\":\"LinearScale\"}},\"id\":\"f3259672-c82c-4cec-9d4a-c1f60d8edfc9\",\"subtype\":\"Figure\",\"type\":\"Plot\"},{\"attributes\":{},\"id\":\"9479200c-f8e1-473d-8e11-e783c5939f59\",\"type\":\"PanTool\"},{\"attributes\":{},\"id\":\"4ae6ee6a-0a86-4167-87c3-a57bbd8e8c9f\",\"type\":\"BasicTickFormatter\"},{\"attributes\":{\"fill_color\":{\"value\":\"#1f77b4\"},\"line_color\":{\"value\":\"#1f77b4\"},\"size\":{\"units\":\"screen\",\"value\":8},\"x\":{\"field\":\"x1\"},\"y\":{\"field\":\"x2\"}},\"id\":\"646f0ea7-f7dd-4973-bc95-849ca3d66ad1\",\"type\":\"Circle\"},{\"attributes\":{},\"id\":\"fe37f29e-df5f-4122-ac0d-6bc38bd5902e\",\"type\":\"BasicTickFormatter\"},{\"attributes\":{},\"id\":\"bf440123-f5d8-457a-8f4e-03329f8f6e76\",\"type\":\"WheelZoomTool\"},{\"attributes\":{\"plot\":null,\"text\":\"word2vec T-SNE for most common words\"},\"id\":\"de1e35d6-654e-46d7-b841-eb37551ac508\",\"type\":\"Title\"},{\"attributes\":{},\"id\":\"dd633964-14f3-4e19-a86a-c8cd26c766e2\",\"type\":\"ResetTool\"},{\"attributes\":{\"callback\":null},\"id\":\"1e608bfc-2fcc-488d-9b2c-c4aa3be24a20\",\"type\":\"DataRange1d\"},{\"attributes\":{},\"id\":\"04d32b18-d9d8-40a5-9e65-9a0e235f7da4\",\"type\":\"SaveTool\"},{\"attributes\":{\"active_drag\":\"auto\",\"active_inspect\":\"auto\",\"active_multi\":null,\"active_scroll\":\"auto\",\"active_tap\":\"auto\",\"tools\":[{\"id\":\"9479200c-f8e1-473d-8e11-e783c5939f59\",\"type\":\"PanTool\"},{\"id\":\"bf440123-f5d8-457a-8f4e-03329f8f6e76\",\"type\":\"WheelZoomTool\"},{\"id\":\"dd633964-14f3-4e19-a86a-c8cd26c766e2\",\"type\":\"ResetTool\"},{\"id\":\"04d32b18-d9d8-40a5-9e65-9a0e235f7da4\",\"type\":\"SaveTool\"}]},\"id\":\"8acd56ec-b996-4d9b-945c-72f3cca7ebe0\",\"type\":\"Toolbar\"},{\"attributes\":{\"callback\":null,\"data\":{\"names\":[\"finding\",\"buildings\",\"shown\",\"goal\",\"somewhere\",\"screen\",\"5\",\"cases\",\"tree\",\"connected\",\"families\",\"police\",\"fight\",\"faster\",\"interest\",\"supposed\",\"allowed\",\"models\",\"skin\",\"leaders\",\"usually\",\"african\",\"conversation\",\"projects\",\"standing\",\"extraordinary\",\"including\",\"named\",\"role\",\"objects\",\"student\",\"doctor\",\"son\",\"vision\",\"further\",\"happiness\",\"continue\",\"object\",\"door\",\"essentially\",\"safe\",\"strong\",\"fall\",\"plan\",\"east\",\"poverty\",\"positive\",\"jobs\",\"grew\",\"materials\",\"exciting\",\"lead\",\"results\",\"500\",\"choose\",\"worse\",\"creative\",\"road\",\"watching\",\"organization\",\"plant\",\"biggest\",\"medicine\",\"follow\",\"anyway\",\"trust\",\"extremely\",\"movie\",\"individuals\",\"table\",\"wait\",\"wants\",\"speed\",\"schools\",\"moved\",\"response\",\"everywhere\",\"favorite\",\"11\",\"zero\",\"plants\",\"break\",\"add\",\"memory\",\"dream\",\"onto\",\"mass\",\"develop\",\"notice\",\"period\",\"showing\",\"hospital\",\"largest\",\"among\",\"minute\",\"sit\",\"democracy\",\"eventually\",\"code\",\"college\",\"higher\",\"action\",\"suddenly\",\"totally\",\"success\",\"measure\",\"particularly\",\"software\",\"3\",\"examples\",\"west\",\"starts\",\"reach\",\"boy\",\"sounds\",\"rules\",\"sex\",\"carbon\",\"source\",\"camera\",\"device\",\"60\",\"potential\",\"crazy\",\"communities\",\"chinese\",\"scientific\",\"games\",\"200\",\"approach\",\"international\",\"led\",\"hit\",\"walking\",\"journey\",\"25\",\"ready\",\"teach\",\"certainly\",\"died\",\"explain\",\"hundred\",\"revolution\",\"send\",\"listen\",\"worth\",\"present\",\"drive\",\"towards\",\"basic\",\"solar\",\"indeed\",\"general\",\"evolution\",\"security\",\"office\",\"quality\",\"violence\",\"web\",\"message\",\"eye\",\"pick\",\"effect\",\"similar\",\"putting\",\"perfect\",\"google\",\"month\",\"involved\",\"lived\",\"nine\",\"product\",\"drugs\",\"aren\",\"bigger\",\"guess\",\"becomes\",\"incredibly\",\"modern\",\"drug\",\"cause\",\"evidence\",\"obviously\",\"writing\",\"experiment\",\"available\",\"truth\",\"rights\",\"major\",\"groups\",\"likely\",\"stay\",\"resources\",\"robot\",\"cool\",\"non\",\"shape\",\"ice\",\"produce\",\"please\",\"beyond\",\"pictures\",\"term\",\"begin\",\"haven\",\"impact\",\"anybody\",\"meet\",\"dead\",\"stand\",\"reasons\",\"box\",\"knows\",\"solution\",\"situation\",\"baby\",\"wall\",\"special\",\"network\",\"film\",\"digital\",\"solve\",\"developing\",\"allow\",\"save\",\"focus\",\"english\",\"tiny\",\"university\",\"innovation\",\"several\",\"class\",\"computers\",\"fun\",\"issues\",\"color\",\"designed\",\"hour\",\"rate\",\"chance\",\"seem\",\"industry\",\"asking\",\"type\",\"showed\",\"dark\",\"generation\",\"gives\",\"normal\",\"discovered\",\"europe\",\"talked\",\"relationship\",\"creating\",\"choice\",\"fly\",\"soon\",\"girls\",\"patient\",\"especially\",\"playing\",\"clear\",\"changing\",\"sun\",\"fast\",\"cars\",\"cut\",\"theory\",\"12\",\"recently\",\"material\",\"key\",\"issue\",\"voice\",\"personal\",\"nobody\",\"map\",\"fear\",\"blood\",\"lab\",\"development\",\"north\",\"act\",\"medical\",\"technologies\",\"result\",\"online\",\"miles\",\"tools\",\"running\",\"support\",\"millions\",\"individual\",\"kid\",\"developed\",\"forward\",\"sea\",\"nice\",\"starting\",\"hold\",\"telling\",\"seems\",\"alone\",\"force\",\"eat\",\"ground\",\"giving\",\"movement\",\"knowledge\",\"literally\",\"books\",\"understanding\",\"wrote\",\"law\",\"images\",\"realize\",\"stage\",\"numbers\",\"audience\",\"die\",\"bottom\",\"speak\",\"brought\",\"absolutely\",\"short\",\"watch\",\"deep\",\"areas\",\"anyone\",\"attention\",\"feet\",\"structure\",\"animal\",\"risk\",\"access\",\"complex\",\"dna\",\"economy\",\"feeling\",\"hundreds\",\"girl\",\"met\",\"behavior\",\"physical\",\"morning\",\"scientists\",\"program\",\"pay\",\"value\",\"average\",\"surface\",\"incredible\",\"street\",\"test\",\"40\",\"climate\",\"born\",\"rest\",\"shows\",\"2\",\"field\",\"growing\",\"friend\",\"low\",\"challenge\",\"south\",\"write\",\"changes\",\"ability\",\"sitting\",\"patients\",\"either\",\"growth\",\"wouldn\",\"buy\",\"green\",\"poor\",\"step\",\"blue\",\"national\",\"quickly\",\"paper\",\"lost\",\"spent\",\"opportunity\",\"weeks\",\"amount\",\"gone\",\"red\",\"political\",\"interested\",\"deal\",\"oil\",\"land\",\"fish\",\"center\",\"tried\",\"grow\",\"common\",\"cannot\",\"wonderful\",\"phone\",\"longer\",\"spend\",\"certain\",\"humans\",\"felt\",\"size\",\"known\",\"week\",\"powerful\",\"economic\",\"eight\",\"ocean\",\"parts\",\"market\",\"white\",\"view\",\"walk\",\"death\",\"parents\",\"media\",\"realized\",\"local\",\"father\",\"beginning\",\"simply\",\"needed\",\"image\",\"needs\",\"terms\",\"whatever\",\"began\",\"hands\",\"york\",\"culture\",\"population\",\"team\",\"moving\",\"eyes\",\"cost\",\"turned\",\"easy\",\"seeing\",\"reality\",\"yourself\",\"area\",\"companies\",\"takes\",\"difficult\",\"china\",\"scale\",\"full\",\"behind\",\"cities\",\"close\",\"15\",\"cell\",\"leave\",\"given\",\"changed\",\"seven\",\"natural\",\"taken\",\"outside\",\"difference\",\"air\",\"systems\",\"during\",\"machine\",\"india\",\"gave\",\"won\",\"entire\",\"learning\",\"news\",\"happy\",\"guys\",\"particular\",\"free\",\"figure\",\"lots\",\"ted\",\"per\",\"based\",\"least\",\"century\",\"thousands\",\"game\",\"sound\",\"early\",\"others\",\"finally\",\"along\",\"third\",\"past\",\"perhaps\",\"1\",\"black\",\"ones\",\"minutes\",\"worked\",\"environment\",\"american\",\"animals\",\"ok\",\"universe\",\"created\",\"huge\",\"couldn\",\"house\",\"front\",\"disease\",\"hours\",\"name\",\"students\",\"rather\",\"kinds\",\"itself\",\"must\",\"themselves\",\"hear\",\"art\",\"happening\",\"ourselves\",\"turns\",\"company\",\"god\",\"mother\",\"questions\",\"gets\",\"model\",\"america\",\"heart\",\"level\",\"share\",\"large\",\"stories\",\"against\",\"education\",\"society\",\"completely\",\"species\",\"exactly\",\"became\",\"taking\",\"works\",\"cancer\",\"study\",\"word\",\"decided\",\"night\",\"run\",\"learned\",\"language\",\"video\",\"places\",\"50\",\"everyone\",\"stop\",\"though\",\"head\",\"nature\",\"piece\",\"music\",\"middle\",\"internet\",\"yeah\",\"form\",\"order\",\"couple\",\"knew\",\"line\",\"friends\",\"beautiful\",\"turn\",\"woman\",\"state\",\"built\",\"somebody\",\"self\",\"under\",\"group\",\"u\",\"words\",\"30\",\"research\",\"isn\",\"control\",\"read\",\"100\",\"wasn\",\"face\",\"until\",\"heard\",\"job\",\"bring\",\"age\",\"cells\",\"since\",\"united\",\"amazing\",\"government\",\"matter\",\"looks\",\"ideas\",\"months\",\"instead\",\"guy\",\"child\",\"war\",\"true\",\"history\",\"hope\",\"sometimes\",\"oh\",\"yes\",\"answer\",\"keep\",\"car\",\"book\",\"wrong\",\"set\",\"sure\",\"public\",\"everybody\",\"top\",\"global\",\"planet\",\"business\",\"often\",\"possible\",\"billion\",\"myself\",\"looked\",\"within\",\"already\",\"saying\",\"community\",\"basically\",\"problems\",\"whether\",\"both\",\"picture\",\"single\",\"remember\",\"mind\",\"project\",\"far\",\"six\",\"someone\",\"inside\",\"process\",\"learn\",\"africa\",\"open\",\"computer\",\"reason\",\"states\",\"move\",\"goes\",\"happens\",\"care\",\"bad\",\"nothing\",\"days\",\"young\",\"yet\",\"almost\",\"case\",\"else\",\"ways\",\"health\",\"simple\",\"hand\",\"room\",\"seen\",\"says\",\"living\",\"makes\",\"asked\",\"experience\",\"later\",\"men\",\"having\",\"build\",\"once\",\"okay\",\"happen\",\"while\",\"saw\",\"side\",\"across\",\"imagine\",\"20\",\"earth\",\"moment\",\"dollars\",\"stuff\",\"family\",\"coming\",\"such\",\"countries\",\"lives\",\"anything\",\"hard\",\"play\",\"pretty\",\"ask\",\"half\",\"interesting\",\"told\",\"body\",\"food\",\"science\",\"building\",\"am\",\"talking\",\"energy\",\"less\",\"light\",\"probably\",\"social\",\"comes\",\"happened\",\"sense\",\"without\",\"city\",\"quite\",\"man\",\"enough\",\"future\",\"getting\",\"left\",\"best\",\"making\",\"design\",\"small\",\"create\",\"become\",\"home\",\"kids\",\"number\",\"space\",\"high\",\"times\",\"power\",\"took\",\"means\",\"money\",\"information\",\"using\",\"second\",\"thinking\",\"country\",\"five\",\"everything\",\"help\",\"working\",\"million\",\"try\",\"believe\",\"feel\",\"away\",\"person\",\"may\",\"trying\",\"children\",\"always\",\"whole\",\"call\",\"live\",\"sort\",\"school\",\"understand\",\"ever\",\"wanted\",\"real\",\"four\",\"point\",\"done\",\"10\",\"example\",\"end\",\"doesn\",\"love\",\"found\",\"maybe\",\"question\",\"looking\",\"water\",\"data\",\"mean\",\"old\",\"too\",\"women\",\"technology\",\"place\",\"used\",\"between\",\"bit\",\"few\",\"brain\",\"came\",\"story\",\"ago\",\"long\",\"show\",\"start\",\"each\",\"does\",\"him\",\"system\",\"course\",\"part\",\"next\",\"off\",\"problem\",\"still\",\"able\",\"together\",\"again\",\"000\",\"important\",\"might\",\"went\",\"thought\",\"give\",\"better\",\"should\",\"never\",\"its\",\"before\",\"own\",\"last\",\"big\",\"idea\",\"another\",\"started\",\"change\",\"talk\",\"fact\",\"didn\",\"find\",\"human\",\"great\",\"tell\",\"thank\",\"after\",\"made\",\"percent\",\"today\",\"any\",\"called\",\"put\",\"doing\",\"use\",\"three\",\"year\",\"day\",\"d\",\"come\",\"being\",\"same\",\"through\",\"her\",\"let\",\"ll\",\"down\",\"different\",\"every\",\"around\",\"good\",\"why\",\"kind\",\"lot\",\"did\",\"need\",\"take\",\"many\",\"work\",\"only\",\"life\",\"his\",\"even\",\"say\",\"most\",\"over\",\"back\",\"got\",\"little\",\"thing\",\"new\",\"look\",\"also\",\"much\",\"than\",\"two\",\"first\",\"those\",\"something\",\"said\",\"she\",\"right\",\"make\",\"been\",\"want\",\"well\",\"go\",\"could\",\"no\",\"other\",\"things\",\"years\",\"will\",\"where\",\"way\",\"into\",\"actually\",\"don\",\"has\",\"some\",\"time\",\"us\",\"world\",\"m\",\"then\",\"ve\",\"get\",\"really\",\"here\",\"would\",\"which\",\"their\",\"your\",\"see\",\"were\",\"who\",\"think\",\"more\",\"had\",\"going\",\"up\",\"know\",\"how\",\"them\",\"by\",\"out\",\"me\",\"very\",\"because\",\"when\",\"or\",\"these\",\"just\",\"an\",\"he\",\"our\",\"now\",\"from\",\"if\",\"like\",\"people\",\"re\",\"one\",\"my\",\"do\",\"not\",\"all\",\"at\",\"as\",\"be\",\"there\",\"about\",\"t\",\"can\",\"with\",\"on\",\"what\",\"but\",\"have\",\"are\",\"for\",\"was\",\"they\",\"so\",\"this\",\"s\",\"is\",\"we\",\"you\",\"it\",\"in\",\"i\",\"that\",\"a\",\"of\",\"to\",\"and\",\"the\"],\"x1\":{\"__ndarray__\":\"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\",\"dtype\":\"float32\",\"shape\":[1000]},\"x2\":{\"__ndarray__\":\"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\",\"dtype\":\"float32\",\"shape\":[1000]}},\"selected\":{\"id\":\"bd9e06c1-e884-4476-83b2-16a210e97d9e\",\"type\":\"Selection\"},\"selection_policy\":{\"id\":\"8a34457a-3805-4856-af8a-85f750034586\",\"type\":\"UnionRenderers\"}},\"id\":\"b324d9dd-9d2f-42c7-abd1-663987f0e38c\",\"type\":\"ColumnDataSource\"},{\"attributes\":{},\"id\":\"8ba2b48b-e3b6-41ca-9be5-53e6ae6a0b1b\",\"type\":\"LinearScale\"},{\"attributes\":{\"fill_alpha\":{\"value\":0.1},\"fill_color\":{\"value\":\"#1f77b4\"},\"line_alpha\":{\"value\":0.1},\"line_color\":{\"value\":\"#1f77b4\"},\"size\":{\"units\":\"screen\",\"value\":8},\"x\":{\"field\":\"x1\"},\"y\":{\"field\":\"x2\"}},\"id\":\"8d53a10c-c2cf-40f8-ad40-58ca8c9557e1\",\"type\":\"Circle\"},{\"attributes\":{\"callback\":null},\"id\":\"9f134b67-b348-4849-b817-68500b8ad8ec\",\"type\":\"DataRange1d\"},{\"attributes\":{\"data_source\":{\"id\":\"b324d9dd-9d2f-42c7-abd1-663987f0e38c\",\"type\":\"ColumnDataSource\"},\"glyph\":{\"id\":\"646f0ea7-f7dd-4973-bc95-849ca3d66ad1\",\"type\":\"Circle\"},\"hover_glyph\":null,\"muted_glyph\":null,\"nonselection_glyph\":{\"id\":\"8d53a10c-c2cf-40f8-ad40-58ca8c9557e1\",\"type\":\"Circle\"},\"selection_glyph\":null,\"view\":{\"id\":\"91c82ddc-84bf-441f-b643-f3bff5e024c4\",\"type\":\"CDSView\"}},\"id\":\"a0b3d875-c4f9-4b26-a4e3-3572cd80e734\",\"type\":\"GlyphRenderer\"},{\"attributes\":{},\"id\":\"98033197-28ec-4d64-8e72-fee25eaaf452\",\"type\":\"LinearScale\"},{\"attributes\":{\"source\":{\"id\":\"b324d9dd-9d2f-42c7-abd1-663987f0e38c\",\"type\":\"ColumnDataSource\"}},\"id\":\"91c82ddc-84bf-441f-b643-f3bff5e024c4\",\"type\":\"CDSView\"},{\"attributes\":{\"plot\":{\"id\":\"f3259672-c82c-4cec-9d4a-c1f60d8edfc9\",\"subtype\":\"Figure\",\"type\":\"Plot\"},\"ticker\":{\"id\":\"b0e4af47-b4e1-4afe-8f45-fcd0fbe8ade1\",\"type\":\"BasicTicker\"}},\"id\":\"685edb98-a1d4-4f2c-9ea9-ce495c7229f9\",\"type\":\"Grid\"},{\"attributes\":{\"plot\":{\"id\":\"f3259672-c82c-4cec-9d4a-c1f60d8edfc9\",\"subtype\":\"Figure\",\"type\":\"Plot\"},\"source\":{\"id\":\"b324d9dd-9d2f-42c7-abd1-663987f0e38c\",\"type\":\"ColumnDataSource\"},\"text\":{\"field\":\"names\"},\"text_align\":\"center\",\"text_color\":{\"value\":\"#555555\"},\"text_font_size\":{\"value\":\"8pt\"},\"x\":{\"field\":\"x1\"},\"y\":{\"field\":\"x2\"},\"y_offset\":{\"value\":6}},\"id\":\"e95aeb10-f9c6-4772-8d1a-50a7a7bb0a2f\",\"type\":\"LabelSet\"},{\"attributes\":{\"formatter\":{\"id\":\"4ae6ee6a-0a86-4167-87c3-a57bbd8e8c9f\",\"type\":\"BasicTickFormatter\"},\"plot\":{\"id\":\"f3259672-c82c-4cec-9d4a-c1f60d8edfc9\",\"subtype\":\"Figure\",\"type\":\"Plot\"},\"ticker\":{\"id\":\"b0e4af47-b4e1-4afe-8f45-fcd0fbe8ade1\",\"type\":\"BasicTicker\"}},\"id\":\"3f8b4229-9f87-4705-9fb9-14baa591aed3\",\"type\":\"LinearAxis\"},{\"attributes\":{},\"id\":\"bd9e06c1-e884-4476-83b2-16a210e97d9e\",\"type\":\"Selection\"},{\"attributes\":{},\"id\":\"b0e4af47-b4e1-4afe-8f45-fcd0fbe8ade1\",\"type\":\"BasicTicker\"},{\"attributes\":{\"formatter\":{\"id\":\"fe37f29e-df5f-4122-ac0d-6bc38bd5902e\",\"type\":\"BasicTickFormatter\"},\"plot\":{\"id\":\"f3259672-c82c-4cec-9d4a-c1f60d8edfc9\",\"subtype\":\"Figure\",\"type\":\"Plot\"},\"ticker\":{\"id\":\"e3f1eb5f-b719-4086-a58e-3c6ce3964308\",\"type\":\"BasicTicker\"}},\"id\":\"4fe33137-0893-46ef-a942-3537d309d866\",\"type\":\"LinearAxis\"},{\"attributes\":{},\"id\":\"e3f1eb5f-b719-4086-a58e-3c6ce3964308\",\"type\":\"BasicTicker\"},{\"attributes\":{\"dimension\":1,\"plot\":{\"id\":\"f3259672-c82c-4cec-9d4a-c1f60d8edfc9\",\"subtype\":\"Figure\",\"type\":\"Plot\"},\"ticker\":{\"id\":\"e3f1eb5f-b719-4086-a58e-3c6ce3964308\",\"type\":\"BasicTicker\"}},\"id\":\"a0159f7e-9d77-4fe4-856c-a6d00eaacdd0\",\"type\":\"Grid\"}],\"root_ids\":[\"f3259672-c82c-4cec-9d4a-c1f60d8edfc9\"]},\"title\":\"Bokeh Application\",\"version\":\"0.13.0\"}};\n",
       "  var render_items = [{\"docid\":\"cce8b03c-89b9-472a-8862-1a69ef9bca93\",\"roots\":{\"f3259672-c82c-4cec-9d4a-c1f60d8edfc9\":\"8ee12fd1-d7e2-4bf7-a3f3-06616cdc369d\"}}];\n",
       "  root.Bokeh.embed.embed_items_notebook(docs_json, render_items);\n",
       "\n",
       "  }\n",
       "  if (root.Bokeh !== undefined) {\n",
       "    embed_document(root);\n",
       "  } else {\n",
       "    var attempts = 0;\n",
       "    var timer = setInterval(function(root) {\n",
       "      if (root.Bokeh !== undefined) {\n",
       "        embed_document(root);\n",
       "        clearInterval(timer);\n",
       "      }\n",
       "      attempts++;\n",
       "      if (attempts > 100) {\n",
       "        console.log(\"Bokeh: ERROR: Unable to run BokehJS code because BokehJS library is missing\")\n",
       "        clearInterval(timer);\n",
       "      }\n",
       "    }, 10, root)\n",
       "  }\n",
       "})(window);"
      ],
      "application/vnd.bokehjs_exec.v0+json": ""
     },
     "metadata": {
      "application/vnd.bokehjs_exec.v0+json": {
       "id": "f3259672-c82c-4cec-9d4a-c1f60d8edfc9"
      }
     },
     "output_type": "display_data"
    }
   ],
   "source": [
    "p = figure(tools=\"pan,wheel_zoom,reset,save\",\n",
    "           toolbar_location=\"above\",\n",
    "           title=\"word2vec T-SNE for most common words\")\n",
    "\n",
    "source = ColumnDataSource(data=dict(x1=words_top_ted_tsne[:,0],\n",
    "                                    x2=words_top_ted_tsne[:,1],\n",
    "                                    names=words_ted_top1000))\n",
    "\n",
    "p.scatter(x=\"x1\", y=\"x2\", size=8, source=source)\n",
    "\n",
    "labels = LabelSet(x=\"x1\", y=\"x2\", text=\"names\", y_offset=6,\n",
    "                  text_font_size=\"8pt\", text_color=\"#555555\",\n",
    "                  source=source, text_align='center')\n",
    "p.add_layout(labels)\n",
    "\n",
    "show(p)"
   ]
  },
  {
   "cell_type": "markdown",
   "metadata": {},
   "source": [
    "### Part 5: Wiki Learnt Representations"
   ]
  },
  {
   "cell_type": "markdown",
   "metadata": {},
   "source": [
    "Download dataset"
   ]
  },
  {
   "cell_type": "code",
   "execution_count": 85,
   "metadata": {
    "collapsed": true
   },
   "outputs": [],
   "source": [
    "if not os.path.isfile('wikitext-103-raw-v1.zip'):\n",
    "    urllib.request.urlretrieve(\"https://s3.amazonaws.com/research.metamind.io/wikitext/wikitext-103-raw-v1.zip\", filename=\"wikitext-103-raw-v1.zip\")"
   ]
  },
  {
   "cell_type": "code",
   "execution_count": 86,
   "metadata": {
    "collapsed": false
   },
   "outputs": [],
   "source": [
    "with zipfile.ZipFile('wikitext-103-raw-v1.zip', 'r') as z:\n",
    "    input_text = str(z.open('wikitext-103-raw/wiki.train.raw', 'r').read(), encoding='utf-8') # Thanks Robert Bastian"
   ]
  },
  {
   "cell_type": "markdown",
   "metadata": {},
   "source": [
    "Preprocess sentences (note that it's important to remove small sentences for performance)"
   ]
  },
  {
   "cell_type": "code",
   "execution_count": 87,
   "metadata": {
    "collapsed": false
   },
   "outputs": [],
   "source": [
    "sentences_wiki = []\n",
    "for line in input_text.split('\\n'):\n",
    "    s = [x for x in line.split('.') if x and len(x.split()) >= 5]\n",
    "    sentences_wiki.extend(s)\n",
    "    \n",
    "for s_i in range(len(sentences_wiki)):\n",
    "    sentences_wiki[s_i] = re.sub(\"[^a-z]\", \" \", sentences_wiki[s_i].lower())\n",
    "    sentences_wiki[s_i] = re.sub(r'\\([^)]*\\)', '', sentences_wiki[s_i])\n",
    "del input_text"
   ]
  },
  {
   "cell_type": "code",
   "execution_count": 88,
   "metadata": {
    "collapsed": false
   },
   "outputs": [
    {
     "name": "stdout",
     "output_type": "stream",
     "text": [
      "4267112\n",
      "853422\n"
     ]
    }
   ],
   "source": [
    "# sample 1/5 of the data\n",
    "shuffle(sentences_wiki)\n",
    "print(len(sentences_wiki))\n",
    "sentences_wiki = sentences_wiki[:int(len(sentences_wiki)/5)]\n",
    "print(len(sentences_wiki))"
   ]
  },
  {
   "cell_type": "markdown",
   "metadata": {},
   "source": [
    "Now, repeat all the same steps that you performed above. You should be able to reuse essentially all the code."
   ]
  },
  {
   "cell_type": "code",
   "execution_count": null,
   "metadata": {
    "collapsed": true
   },
   "outputs": [],
   "source": [
    "# ..."
   ]
  },
  {
   "cell_type": "markdown",
   "metadata": {},
   "source": [
    "#### t-SNE visualization"
   ]
  },
  {
   "cell_type": "code",
   "execution_count": null,
   "metadata": {
    "collapsed": true
   },
   "outputs": [],
   "source": [
    "# This assumes words_top_wiki is a list of strings, the top 1000 words\n",
    "words_top_vec_wiki = model_wiki[words_top_wiki]\n",
    "\n",
    "tsne = TSNE(n_components=2, random_state=0)\n",
    "words_top_wiki_tsne = tsne.fit_transform(words_top_vec_wiki)"
   ]
  },
  {
   "cell_type": "code",
   "execution_count": null,
   "metadata": {
    "collapsed": false
   },
   "outputs": [],
   "source": [
    "p = figure(tools=\"pan,wheel_zoom,reset,save\",\n",
    "           toolbar_location=\"above\",\n",
    "           title=\"word2vec T-SNE for most common words\")\n",
    "\n",
    "source = ColumnDataSource(data=dict(x1=words_top_wiki_tsne[:,0],\n",
    "                                    x2=words_top_wiki_tsne[:,1],\n",
    "                                    names=words_top_wiki))\n",
    "\n",
    "p.scatter(x=\"x1\", y=\"x2\", size=8, source=source)\n",
    "\n",
    "labels = LabelSet(x=\"x1\", y=\"x2\", text=\"names\", y_offset=6,\n",
    "                  text_font_size=\"8pt\", text_color=\"#555555\",\n",
    "                  source=source, text_align='center')\n",
    "p.add_layout(labels)\n",
    "\n",
    "show(p)"
   ]
  }
 ],
 "metadata": {
  "anaconda-cloud": {},
  "kernelspec": {
   "display_name": "Python 3",
   "language": "python",
   "name": "python3"
  },
  "language_info": {
   "codemirror_mode": {
    "name": "ipython",
    "version": 3
   },
   "file_extension": ".py",
   "mimetype": "text/x-python",
   "name": "python",
   "nbconvert_exporter": "python",
   "pygments_lexer": "ipython3",
   "version": "3.6.6"
  }
 },
 "nbformat": 4,
 "nbformat_minor": 2
}
